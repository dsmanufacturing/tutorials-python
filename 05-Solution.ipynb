{
 "cells": [
  {
   "cell_type": "markdown",
   "metadata": {},
   "source": [
    "# Exercise 1\n",
    "\n",
    "* Import the built in math library\n",
    "* use the fabs function on the value of -100\n",
    "* use the fsum function with the list [1,2,3,4,5]\n",
    "* use the log10 function to find log10 of 1000"
   ]
  },
  {
   "cell_type": "code",
   "execution_count": 1,
   "metadata": {},
   "outputs": [
    {
     "name": "stdout",
     "output_type": "stream",
     "text": [
      "100.0\n",
      "15.0\n",
      "3.0\n"
     ]
    }
   ],
   "source": [
    "# ENTER YOUR CODE HERE\n",
    "\n",
    "import math\n",
    "\n",
    "print(math.fabs(-100))\n",
    "print(math.fsum([1,2,3,4,5]))\n",
    "print(math.log10(1000))"
   ]
  },
  {
   "cell_type": "markdown",
   "metadata": {},
   "source": [
    "# Exercise 2\n",
    "\n",
    "* import built in library called colorsys\n",
    "* convert this RGB list to HSV (255,100,0)\n",
    "* convert this HSV list to RGB (0.6, 0.6, 0.1)"
   ]
  },
  {
   "cell_type": "code",
   "execution_count": 2,
   "metadata": {},
   "outputs": [
    {
     "name": "stdout",
     "output_type": "stream",
     "text": [
      "(0.06535947712418301, 1.0, 255)\n",
      "(0.04000000000000001, 0.06400000000000003, 0.1)\n"
     ]
    }
   ],
   "source": [
    "# ENTER YOUR CODE HERE\n",
    "\n",
    "import colorsys as cs\n",
    "\n",
    "print(cs.rgb_to_hsv(255,100,0))\n",
    "print(cs.hsv_to_rgb(0.60,0.60,0.1))"
   ]
  },
  {
   "cell_type": "markdown",
   "metadata": {},
   "source": [
    "# Exercise 3\n",
    "\n",
    "* create a python file called my_library and place it in the python library folder as shown in tutorial.\n",
    "* create a function which outputs the current date and time.\n",
    "* create another function which multiples the varaible passed into the function by 5"
   ]
  },
  {
   "cell_type": "code",
   "execution_count": 1,
   "metadata": {},
   "outputs": [
    {
     "name": "stdout",
     "output_type": "stream",
     "text": [
      "2020-06-15 10:01:38.270957\n",
      "25\n"
     ]
    }
   ],
   "source": [
    "# ENTER YOUR CODE HERE\n",
    "import my_library\n",
    "\n",
    "my_library.time_output()\n",
    "my_library.multiply_by_five(5)\n"
   ]
  },
  {
   "cell_type": "code",
   "execution_count": null,
   "metadata": {},
   "outputs": [],
   "source": []
  }
 ],
 "metadata": {
  "kernelspec": {
   "display_name": "Python 3",
   "language": "python",
   "name": "python3"
  },
  "language_info": {
   "codemirror_mode": {
    "name": "ipython",
    "version": 3
   },
   "file_extension": ".py",
   "mimetype": "text/x-python",
   "name": "python",
   "nbconvert_exporter": "python",
   "pygments_lexer": "ipython3",
   "version": "3.7.3"
  }
 },
 "nbformat": 4,
 "nbformat_minor": 4
}
