{
 "cells": [
  {
   "cell_type": "markdown",
   "metadata": {},
   "source": [
    "# Exercise 1\n",
    "\n",
    "* Create an empty Dictionary\n",
    "* Create a dictionary called personnel with the keys of first_name, second_name, id_number. You can choose the values data."
   ]
  },
  {
   "cell_type": "code",
   "execution_count": 1,
   "metadata": {},
   "outputs": [],
   "source": [
    "# ENTER YOUR CODE HERE\n",
    "\n",
    "empty_dictionary = {} \n",
    "empty_dictionary_function = dict()\n",
    "\n",
    "personnel = {\"first_name\":\"John\", \"second_name\":\"Reilly\", \"id_number\": 123456}"
   ]
  },
  {
   "cell_type": "markdown",
   "metadata": {},
   "source": [
    "# Exercise 2\n",
    "\n",
    "Using the Duplex_Stainless_Steel_UR52N dictionary shown in the tutorial.\n",
    "\n",
    "* Output the value of Copper (Cu)\n",
    "* Output the value of \"Modulus of Elasticity (GPa)\"\n",
    "* Output the value of \"Proof Stress 0.2% (MPa)\""
   ]
  },
  {
   "cell_type": "code",
   "execution_count": 2,
   "metadata": {},
   "outputs": [
    {
     "name": "stdout",
     "output_type": "stream",
     "text": [
      "3\n",
      "205\n",
      "550\n"
     ]
    }
   ],
   "source": [
    "Duplex_Stainless_Steel_UR52N = { \n",
    "                                \"Material Composition (%)\": { \"C\":0.03, \"Mn\":1.5, \"Si\":0.8, \"P\":0.035, \"S\": 0.02, \"Cr\": 26, \"Mo\": 5, \"Ni\": 8, \"N\": 0.35, \"Cu\":3},\n",
    "    \n",
    "    \n",
    "                                \"Material Properties\": {\n",
    "                                            \"Mechanical\": { \"Tensile Strength (MPa)\": 770, \"Proof Stress 0.2% (MPa)\":550, \"Elongation A5 (%)\": 25 },\n",
    "                                            \"Physical\": {\"Density (g.cm3)\": 7.810, \"Modulus of Elasticity (GPa)\": 205, \"Electrical Resistivity (Ω.m)\": 0.85e-6, \"Thermal Conductivity (W/m.K)\": \"17 @ 100 DegC\", \"Thermal Expansion (m/m.K)\": \"13.5e-6 @ 200 DegC\"}               \n",
    "                                                       }\n",
    "                                }\n",
    "\n",
    "# ENTER YOUR CODE HERE\n",
    "print(Duplex_Stainless_Steel_UR52N[\"Material Composition (%)\"][\"Cu\"])\n",
    "print(Duplex_Stainless_Steel_UR52N[\"Material Properties\"][\"Physical\"][\"Modulus of Elasticity (GPa)\"])\n",
    "print(Duplex_Stainless_Steel_UR52N[\"Material Properties\"][\"Mechanical\"][\"Proof Stress 0.2% (MPa)\"])\n"
   ]
  },
  {
   "cell_type": "markdown",
   "metadata": {},
   "source": [
    "# Exercise 3\n",
    "\n",
    "Using for loops\n",
    "\n",
    "* Output all the keys of the employee_dictionary\n",
    "* Output all the values of the employee_dictionary"
   ]
  },
  {
   "cell_type": "code",
   "execution_count": 3,
   "metadata": {},
   "outputs": [
    {
     "name": "stdout",
     "output_type": "stream",
     "text": [
      "Name John Reilly\n",
      "Telephone Number 5345200\n",
      "Office Location 85 Inchinnan Dr, Inchinnan, Renfrew PA4 9LJ\n",
      "Name\n",
      "Telephone Number\n",
      "Office Location\n",
      "John Reilly\n",
      "5345200\n",
      "85 Inchinnan Dr, Inchinnan, Renfrew PA4 9LJ\n"
     ]
    }
   ],
   "source": [
    "employee_dictionary = {\"Name\":\"John Reilly\", \"Telephone Number\": 5345200, \"Office Location\": \"85 Inchinnan Dr, Inchinnan, Renfrew PA4 9LJ\"}\n",
    "\n",
    "# ENTER YOUR CODE HERE\n",
    "\n",
    "for key, value in employee_dictionary.items():\n",
    "    print(key, value)\n",
    "    \n",
    "for key in employee_dictionary.keys():\n",
    "    print(key)\n",
    "    \n",
    "for value in employee_dictionary.values():\n",
    "    print(value)"
   ]
  },
  {
   "cell_type": "markdown",
   "metadata": {},
   "source": [
    "# Exercise 4\n",
    "\n",
    "Change each of the values of the employee_dictionary to anything else."
   ]
  },
  {
   "cell_type": "code",
   "execution_count": 4,
   "metadata": {},
   "outputs": [
    {
     "data": {
      "text/plain": [
       "{'Name': 'JR',\n",
       " 'Telephone Number': 5551111,\n",
       " 'Office Location': '123 Fake Street, Fake Town, Fake'}"
      ]
     },
     "execution_count": 4,
     "metadata": {},
     "output_type": "execute_result"
    }
   ],
   "source": [
    "employee_dictionary = {\"Name\":\"John Reilly\", \"Telephone Number\": 5345200, \"Office Location\": \"85 Inchinnan Dr, Inchinnan, Renfrew PA4 9LJ\"}\n",
    "\n",
    "# ENTER YOUR CODE HERE\n",
    "\n",
    "employee_dictionary[\"Name\"] = \"JR\"\n",
    "employee_dictionary[\"Telephone Number\"] = 5551111\n",
    "employee_dictionary[\"Office Location\"] = \"123 Fake Street, Fake Town, Fake\"\n",
    "\n",
    "employee_dictionary"
   ]
  },
  {
   "cell_type": "markdown",
   "metadata": {},
   "source": [
    "# Exercise 5\n",
    "\n",
    "Using a for loop, loop through each value and do the following.\n",
    "\n",
    "* continue the loop if the value is even\n",
    "* print the value if the value is odd\n",
    "* break the loop if the value is greater than 18 and do not print the value"
   ]
  },
  {
   "cell_type": "code",
   "execution_count": 5,
   "metadata": {},
   "outputs": [
    {
     "name": "stdout",
     "output_type": "stream",
     "text": [
      "11\n",
      "13\n",
      "15\n",
      "17\n"
     ]
    }
   ],
   "source": [
    "# ENTER YOUR CODE HERE\n",
    "\n",
    "number_list = [11,12,13,14,15,16,17,18,19,20]\n",
    "\n",
    "for number in number_list:\n",
    "    if number % 2 == 0:\n",
    "        continue\n",
    "    elif number > 18:\n",
    "        break\n",
    "    print(number)\n",
    "    "
   ]
  },
  {
   "cell_type": "markdown",
   "metadata": {},
   "source": [
    "# Exercise 6\n",
    "\n",
    "Create a while loop which prints out the dictionary value from the key \"number\" while x is less than 20 and x is incremented by 1 every loop."
   ]
  },
  {
   "cell_type": "code",
   "execution_count": 6,
   "metadata": {},
   "outputs": [
    {
     "name": "stdout",
     "output_type": "stream",
     "text": [
      "20\n",
      "20\n",
      "20\n",
      "20\n",
      "20\n"
     ]
    }
   ],
   "source": [
    "Simple_Dictionary = {\n",
    "    \"characters\":[\"a\",\"b\",\"c\"],\n",
    "    \"number\": 20,\n",
    "    \"special characters\": [\"!\",\"@\",\"#\"]\n",
    "}\n",
    "\n",
    "x = 15\n",
    "\n",
    "# ENTER YOUR CODE HERE\n",
    "\n",
    "while x < 20:\n",
    "    print(Simple_Dictionary[\"number\"])\n",
    "    x += 1"
   ]
  },
  {
   "cell_type": "code",
   "execution_count": null,
   "metadata": {},
   "outputs": [],
   "source": []
  }
 ],
 "metadata": {
  "kernelspec": {
   "display_name": "Python 3",
   "language": "python",
   "name": "python3"
  },
  "language_info": {
   "codemirror_mode": {
    "name": "ipython",
    "version": 3
   },
   "file_extension": ".py",
   "mimetype": "text/x-python",
   "name": "python",
   "nbconvert_exporter": "python",
   "pygments_lexer": "ipython3",
   "version": "3.7.3"
  }
 },
 "nbformat": 4,
 "nbformat_minor": 4
}
