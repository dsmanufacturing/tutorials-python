{
 "cells": [
  {
   "cell_type": "markdown",
   "metadata": {},
   "source": [
    "# Exercise 1\n",
    "\n",
    "Using pandas \n",
    "\n",
    "* Read the csv \"Glasgow_Weather.csv\"\n",
    "* Create a variable that is a filter where tempMin is greater than or equal to 0\n",
    "* Create a variable that is a filter where tempMax is less than or equal to 5\n",
    "* Create a variable that is a filter where desc does not equal rain\n",
    "* Using logical operation AND together these filters into another variable and name it mask\n",
    "* Use the variable mask on the dataframe and show the results\n",
    "* Assign the df with the mask to a new variable called filtered_df"
   ]
  },
  {
   "cell_type": "code",
   "execution_count": null,
   "metadata": {},
   "outputs": [],
   "source": [
    "# ENTER YOUR CODE HERE"
   ]
  },
  {
   "cell_type": "markdown",
   "metadata": {},
   "source": [
    "# Exercise 2\n",
    "\n",
    "* Create another variable called df_inverse_filter where you filter on the inverse on the above mask\n",
    "* Output the data of df_inverse_filter"
   ]
  },
  {
   "cell_type": "code",
   "execution_count": null,
   "metadata": {},
   "outputs": [],
   "source": [
    "# ENTER YOUR CODE HERE"
   ]
  },
  {
   "cell_type": "markdown",
   "metadata": {},
   "source": [
    "# Exercise 3\n",
    "\n",
    "Using df_filter\n",
    "\n",
    "* Sort the column tempMin in ascending order\n",
    "* Sort the column desc in descending order\n",
    "* Sort both columns tempMax and summary in ascending order\n",
    "* Sort both columns cloudCover and humidity but cloudCover in ascending order and humidity in descending order."
   ]
  },
  {
   "cell_type": "code",
   "execution_count": null,
   "metadata": {},
   "outputs": [],
   "source": [
    "# ENTER YOUR CODE HERE"
   ]
  },
  {
   "cell_type": "markdown",
   "metadata": {},
   "source": [
    "# Exercise 4\n",
    "\n",
    "Using df_inverse_filter\n",
    "\n",
    "* Show how to sort the index in descending order\n",
    "* Show the 5 largest values of windSpeed\n",
    "* Show the 5 smallest values of visibility"
   ]
  },
  {
   "cell_type": "code",
   "execution_count": null,
   "metadata": {},
   "outputs": [],
   "source": [
    "# ENTER YOUR CODE HERE"
   ]
  }
 ],
 "metadata": {
  "kernelspec": {
   "display_name": "Python 3",
   "language": "python",
   "name": "python3"
  },
  "language_info": {
   "codemirror_mode": {
    "name": "ipython",
    "version": 3
   },
   "file_extension": ".py",
   "mimetype": "text/x-python",
   "name": "python",
   "nbconvert_exporter": "python",
   "pygments_lexer": "ipython3",
   "version": "3.7.3"
  }
 },
 "nbformat": 4,
 "nbformat_minor": 4
}
