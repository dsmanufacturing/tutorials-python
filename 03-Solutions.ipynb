{
 "cells": [
  {
   "cell_type": "markdown",
   "metadata": {},
   "source": [
    "# Exercise 1\n",
    "\n",
    "* Create a list with the values of 1,2,3,4,5\n",
    "* Create a tuple with the values of a,b,c,d,e\n",
    "* Create a set with the values 5,4,3,2,1"
   ]
  },
  {
   "cell_type": "code",
   "execution_count": null,
   "metadata": {},
   "outputs": [],
   "source": [
    "# ENTER YOUR CODE HERE\n",
    "\n",
    "number_list = [1,2,3,4,5]\n",
    "character_tuple = (\"a\",\"b\",\"c\",\"d\",\"e\")\n",
    "number_set = {5,4,3,2,1}"
   ]
  },
  {
   "cell_type": "markdown",
   "metadata": {},
   "source": [
    "# Exercise 2\n",
    "\n",
    "Output the followling. \n",
    "\n",
    "* The 4th values of the list.\n",
    "* The 2nd last value of the list using negative values.\n",
    "* The list of values from the 2nd index to the 7th index, including the 7th index."
   ]
  },
  {
   "cell_type": "code",
   "execution_count": 4,
   "metadata": {},
   "outputs": [
    {
     "name": "stdout",
     "output_type": "stream",
     "text": [
      "4\n",
      "9\n",
      "[2, 3, 4, 5, 6, 7]\n"
     ]
    }
   ],
   "source": [
    "Exercise_2_list = [1,2,3,4,5,6,7,8,9,10]\n",
    "\n",
    "# ENTER YOUR CODE HERE\n",
    "\n",
    "print(Exercise_2_list[3])\n",
    "print(Exercise_2_list[-2])\n",
    "print(Exercise_2_list[1:7])"
   ]
  },
  {
   "cell_type": "markdown",
   "metadata": {},
   "source": [
    "# Exercise 3\n",
    "\n",
    "Do the following.\n",
    "\n",
    "* Insert the value of 10 to the start of the list.\n",
    "* Remove the value of -30.\n",
    "* Sort the list ascending order.\n",
    "* Reverse the list."
   ]
  },
  {
   "cell_type": "code",
   "execution_count": 12,
   "metadata": {},
   "outputs": [
    {
     "name": "stdout",
     "output_type": "stream",
     "text": [
      "[10, -30, -20, -10, 0, 20]\n",
      "[10, -20, -10, 0, 20]\n",
      "[-20, -10, 0, 10, 20]\n",
      "[20, 10, 0, -10, -20]\n"
     ]
    }
   ],
   "source": [
    "Exercise_3_list = [-30,-20,-10,0,20]\n",
    "\n",
    "# ENTER YOUR CODE HERE\n",
    "\n",
    "Exercise_3_list.insert(0,10)\n",
    "print(Exercise_3_list)\n",
    "Exercise_3_list.remove(-30)\n",
    "print(Exercise_3_list)\n",
    "Exercise_3_list.sort()\n",
    "print(Exercise_3_list)\n",
    "Exercise_3_list.reverse()\n",
    "print(Exercise_3_list)"
   ]
  },
  {
   "cell_type": "markdown",
   "metadata": {},
   "source": [
    "# Exercise 4\n",
    "\n",
    "Use a for loop, loop through this list, printing out each value plus 1."
   ]
  },
  {
   "cell_type": "code",
   "execution_count": 17,
   "metadata": {},
   "outputs": [
    {
     "name": "stdout",
     "output_type": "stream",
     "text": [
      "3\n",
      "5\n",
      "7\n",
      "9\n",
      "11\n",
      "13\n",
      "15\n",
      "17\n",
      "19\n",
      "21\n",
      "\n",
      "3\n",
      "5\n",
      "7\n",
      "9\n",
      "11\n",
      "13\n",
      "15\n",
      "17\n",
      "19\n",
      "21\n"
     ]
    }
   ],
   "source": [
    "Exercise_4_list = [2,4,6,8,10,12,14,16,18,20]\n",
    "\n",
    "# ENTER YOUR CODE HERE\n",
    "\n",
    "for value in Exercise_4_list:\n",
    "    print(value+1)\n",
    "\n",
    "print()\n",
    "    \n",
    "for value in Exercise_4_list:\n",
    "    value += 1\n",
    "    print(value)"
   ]
  },
  {
   "cell_type": "markdown",
   "metadata": {},
   "source": [
    "# Exercise 5\n",
    "\n",
    "Create an empty list, tuple and set."
   ]
  },
  {
   "cell_type": "code",
   "execution_count": null,
   "metadata": {},
   "outputs": [],
   "source": [
    "# ENTER YOUR CODE HERE\n",
    "empty_list = [] \n",
    "empty_list = list()\n",
    "\n",
    "empty_tuple = ()\n",
    "emplty_tuple = tuple()\n",
    "\n",
    "empty_set = set()"
   ]
  }
 ],
 "metadata": {
  "kernelspec": {
   "display_name": "Python 3",
   "language": "python",
   "name": "python3"
  },
  "language_info": {
   "codemirror_mode": {
    "name": "ipython",
    "version": 3
   },
   "file_extension": ".py",
   "mimetype": "text/x-python",
   "name": "python",
   "nbconvert_exporter": "python",
   "pygments_lexer": "ipython3",
   "version": "3.7.4"
  }
 },
 "nbformat": 4,
 "nbformat_minor": 4
}
