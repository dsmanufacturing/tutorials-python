{
 "cells": [
  {
   "cell_type": "markdown",
   "metadata": {},
   "source": [
    "# Exercise 1\n",
    "\n",
    "create two variables called x and y (remember variables are case sensitive). Assign x with the value of 20 and y with the value of 5. \n",
    "\n",
    "Using the assignment operators dividie x by 2 and multiple y by 2. \n",
    "\n",
    "Print both x and y value."
   ]
  },
  {
   "cell_type": "code",
   "execution_count": 1,
   "metadata": {},
   "outputs": [
    {
     "name": "stdout",
     "output_type": "stream",
     "text": [
      "10.0 10\n"
     ]
    }
   ],
   "source": [
    "x = 20\n",
    "y = 5\n",
    "x /= 2\n",
    "y *=2\n",
    "print(x,y)"
   ]
  },
  {
   "cell_type": "markdown",
   "metadata": {},
   "source": [
    "# Exercise 2\n",
    "\n",
    "Change the below Logic Operators to return a True value. Try doing it with as few changes as possible.\n",
    "\n",
    "Don't worry there are multiple ways to change this to True."
   ]
  },
  {
   "cell_type": "code",
   "execution_count": 2,
   "metadata": {},
   "outputs": [],
   "source": [
    "x = 10\n",
    "y = 10"
   ]
  },
  {
   "cell_type": "code",
   "execution_count": 3,
   "metadata": {},
   "outputs": [
    {
     "data": {
      "text/plain": [
       "True"
      ]
     },
     "execution_count": 3,
     "metadata": {},
     "output_type": "execute_result"
    }
   ],
   "source": [
    "(x > 10 and y < 15) or not(x != 10) "
   ]
  },
  {
   "cell_type": "code",
   "execution_count": 4,
   "metadata": {},
   "outputs": [
    {
     "data": {
      "text/plain": [
       "True"
      ]
     },
     "execution_count": 4,
     "metadata": {},
     "output_type": "execute_result"
    }
   ],
   "source": [
    "(x >= 10 and y <= 10 and (x+10) == 20) or (not(x == 1 or y != 1))"
   ]
  },
  {
   "cell_type": "markdown",
   "metadata": {},
   "source": [
    "# Exercise 3\n",
    "\n",
    "Using Membership Operators, show if the value of \"a\" is in the list of \"b\" and \"c\""
   ]
  },
  {
   "cell_type": "code",
   "execution_count": 5,
   "metadata": {},
   "outputs": [
    {
     "name": "stdout",
     "output_type": "stream",
     "text": [
      "False\n",
      "True\n"
     ]
    }
   ],
   "source": [
    "a = 100\n",
    "b = [1,2,3,4,5,6,7,8,9,10]\n",
    "c = [105,103,101,100, 0]\n",
    "\n",
    "# ENTER YOUR CODE HERE\n",
    "print(a in b)\n",
    "print(a in c)"
   ]
  },
  {
   "cell_type": "markdown",
   "metadata": {},
   "source": [
    "# Exercise 4\n",
    "\n",
    "Create a nested if statement as per the comments "
   ]
  },
  {
   "cell_type": "code",
   "execution_count": 6,
   "metadata": {},
   "outputs": [
    {
     "name": "stdout",
     "output_type": "stream",
     "text": [
      "Z is greater than or equal to 100\n",
      "Z is less than or equal to 1000\n",
      "889\n"
     ]
    }
   ],
   "source": [
    "z = 789\n",
    "\n",
    "# if z is greater than or equal to 100, output saying it is greater than or equal to 100 else output saying it is less than 100\n",
    "# NESTED if z is less than or equal to 1000, output saying it is less than or equal to 1000 else output saying it greater than 1000\n",
    "# NESTED IF z is equal to 789, output the value of z plus 100 else output saying it is not 789 and between 101 and 999.\n",
    "\n",
    "# Change the value of z above to test your logic, see if it works for all case, especially the edge cases of where the logic should change the result.\n",
    "\n",
    "# ENTER YOUR CODE HERE\n",
    "\n",
    "if z >= 100:\n",
    "    print(\"Z is greater than or equal to 100\")\n",
    "    \n",
    "    if z <= 1000:\n",
    "        print(\"Z is less than or equal to 1000\")\n",
    "        \n",
    "        if z == 789:\n",
    "            print(z + 100)\n",
    "        else:\n",
    "            print(\"Z is not 789 and between 101 and 999\")\n",
    "    else:\n",
    "        print(\"Z is greater than 1000\")\n",
    "else:\n",
    "    print(\"Z is less than 100\")\n"
   ]
  },
  {
   "cell_type": "markdown",
   "metadata": {},
   "source": [
    "# Exercise 5\n",
    "\n",
    "Create a function called comparison, which takes 2 arguments called number_one and number_two. \n",
    "\n",
    "In the function compare the two arguments and return the largest argument value, if they are equal return either.\n",
    "\n",
    "Assign this function to a variable called result, using 2 numbers of your choice, then print out the variable result."
   ]
  },
  {
   "cell_type": "code",
   "execution_count": 7,
   "metadata": {},
   "outputs": [
    {
     "name": "stdout",
     "output_type": "stream",
     "text": [
      "13\n"
     ]
    }
   ],
   "source": [
    "# ENTER YOUR CODE HERE\n",
    "\n",
    "def comparison(number_one, number_two):\n",
    "    if number_one > number_two:\n",
    "        return number_one\n",
    "    elif number_one < number_two:\n",
    "        return number_two\n",
    "    else:\n",
    "        return number_one\n",
    "    \n",
    "result = comparison(12,13)\n",
    "print(result)"
   ]
  },
  {
   "cell_type": "code",
   "execution_count": null,
   "metadata": {},
   "outputs": [],
   "source": []
  }
 ],
 "metadata": {
  "kernelspec": {
   "display_name": "Python 3",
   "language": "python",
   "name": "python3"
  },
  "language_info": {
   "codemirror_mode": {
    "name": "ipython",
    "version": 3
   },
   "file_extension": ".py",
   "mimetype": "text/x-python",
   "name": "python",
   "nbconvert_exporter": "python",
   "pygments_lexer": "ipython3",
   "version": "3.7.4"
  }
 },
 "nbformat": 4,
 "nbformat_minor": 4
}
