{
 "cells": [
  {
   "cell_type": "markdown",
   "metadata": {},
   "source": [
    "## Importing Modules\n",
    "\n",
    "Importing in python means gaining access to code from another script. Why is this useful? Its useful because a lot of problem will already be solved and using already create code reduces programming time. \n",
    "\n",
    "Python has some already built in libraries when its installed, such as os.pyth for common pathname manipulations, itertools for functions creating iterators for efficient looping, csv for reading and writing csv files and many more which can be found [here](https://docs.python.org/3/library/index.html).\n",
    "\n"
   ]
  },
  {
   "cell_type": "code",
   "execution_count": null,
   "metadata": {},
   "outputs": [],
   "source": [
    "import math\n",
    "\n",
    "print(math.pi)\n",
    "print(math.floor(2.99999))\n",
    "print(math.ceil(2.99999))\n",
    "print(math.isnan(1))\n",
    "print(math.log2(8))"
   ]
  },
  {
   "cell_type": "markdown",
   "metadata": {},
   "source": [
    "To import only a single function from the math library you using the from math import (FUNCTION) syntax. Please be aware that if you have a function already created with the same name, issue will arise. So please ensure you do not have functions the same name as the imported library and functions.\n",
    "\n",
    "Importing the function this way allows you to call the function without having to type \"math.\"."
   ]
  },
  {
   "cell_type": "code",
   "execution_count": null,
   "metadata": {},
   "outputs": [],
   "source": [
    "from math import pi\n",
    "\n",
    "pi"
   ]
  },
  {
   "cell_type": "markdown",
   "metadata": {},
   "source": [
    "To have multiple imports from one module you can simply seperate them with a comma. "
   ]
  },
  {
   "cell_type": "code",
   "execution_count": null,
   "metadata": {},
   "outputs": [],
   "source": [
    "from math import pi, floor, ceil, isnan, log2\n",
    "\n",
    "print(pi)\n",
    "print(floor(2.99999))\n",
    "print(ceil(2.99999))\n",
    "print(isnan(1))\n",
    "print(log2(8))"
   ]
  },
  {
   "cell_type": "markdown",
   "metadata": {},
   "source": [
    "You can import all function from a library using the * after import. I would advise against this as libraries change and you might not know all the functions it has which could clash with your function name."
   ]
  },
  {
   "cell_type": "code",
   "execution_count": null,
   "metadata": {},
   "outputs": [],
   "source": [
    "from math import *\n",
    "\n",
    "print(cos(pi))\n",
    "print(factorial(6))"
   ]
  },
  {
   "cell_type": "markdown",
   "metadata": {},
   "source": [
    "You can rename functions using the keyword of as. Again make sure the name doesn't clash with other function names"
   ]
  },
  {
   "cell_type": "code",
   "execution_count": null,
   "metadata": {},
   "outputs": [],
   "source": [
    "from math import floor as fl\n",
    "\n",
    "fl(3.999)"
   ]
  },
  {
   "cell_type": "markdown",
   "metadata": {},
   "source": [
    "### Below will be show some more useful built in libraries."
   ]
  },
  {
   "cell_type": "code",
   "execution_count": null,
   "metadata": {},
   "outputs": [],
   "source": [
    "import datetime\n",
    "\n",
    "print(datetime.datetime.now())\n",
    "print(datetime.MAXYEAR)\n",
    "print(datetime.timedelta(hours=25, minutes=34, seconds=59))\n",
    "print(datetime.timedelta(hours=25, minutes=34, seconds=59) - datetime.timedelta(hours=24, minutes=33, seconds=0))"
   ]
  },
  {
   "cell_type": "code",
   "execution_count": null,
   "metadata": {},
   "outputs": [],
   "source": [
    "import calendar\n",
    "\n",
    "year = 2020\n",
    "month = 6\n",
    "\n",
    "print(calendar.month(year,month))\n",
    "print(calendar.isleap(2020))\n",
    "print(calendar.isleap(2021))\n",
    "print(calendar.weekday(2020, 6, 10))"
   ]
  },
  {
   "cell_type": "code",
   "execution_count": null,
   "metadata": {},
   "outputs": [],
   "source": [
    "import collections\n",
    "\n",
    "char_list = [\"a\",\"a\",\"a\",\"a\",\"b\",\"b\",\"b\",\"c\",\"c\",\"d\"]\n",
    "\n",
    "counter_number_list = collections.Counter(char_list)\n",
    "\n",
    "print(counter_number_list)\n",
    "print(counter_number_list.most_common(3))\n"
   ]
  },
  {
   "cell_type": "code",
   "execution_count": null,
   "metadata": {},
   "outputs": [],
   "source": [
    "import random\n",
    "\n",
    "print(random.random())\n",
    "print(random.randint(0,9))\n",
    "print(random.randrange(0,9,3))\n",
    "\n",
    "random_list = [\"a\",\"b\",\"c\",\"d\",\"e\",\"f\"]\n",
    "print(random.choice(random_list))\n",
    "\n",
    "print(random.choices(random_list, k=3))\n",
    "\n",
    "print(random_list)\n",
    "random.shuffle(random_list)\n",
    "print(random_list)"
   ]
  },
  {
   "cell_type": "code",
   "execution_count": null,
   "metadata": {},
   "outputs": [],
   "source": [
    "import itertools\n",
    "\n",
    "\n",
    "print(list(itertools.repeat(10,5)))\n",
    "print(list(itertools.permutations(\"ABCDE\", 2)))\n",
    "print(list(itertools.combinations(\"ABCDE\",2)))\n",
    "print(list(itertools.accumulate([1,2,3,4,5])))"
   ]
  },
  {
   "cell_type": "markdown",
   "metadata": {},
   "source": [
    "These are just a few examples of the built in functions, more can be found [here](https://docs.python.org/3/library/index.html)."
   ]
  },
  {
   "cell_type": "markdown",
   "metadata": {},
   "source": [
    "### Importing downloaded Modules\n",
    "\n",
    "You can also download more libraries for python using pip, Anatcona or PyPi. When you install these libraies, they will be saved in your site-packages folder and will give you access to import them in any python code.\n",
    "\n",
    "For example you should have pandas installed if you downloaded python with Anaconda which isn't a built in library when installing python."
   ]
  },
  {
   "cell_type": "code",
   "execution_count": null,
   "metadata": {},
   "outputs": [],
   "source": [
    "from numerizer import numerize \n",
    "print(numerize(\"one two three\"))\n",
    "print(numerize(\"Fifteen hundred\"))\n",
    "print(numerize(\"Three hundred and Forty five\"))\n",
    "print(numerize(\"Six and one quarter\"))\n",
    "print(numerize(\"Jack is having fifty million\"))\n",
    "print(numerize(\"Three hundred billion\"))"
   ]
  },
  {
   "cell_type": "markdown",
   "metadata": {},
   "source": [
    "Above is an example of a random library I installed using pip and that I can now import."
   ]
  },
  {
   "cell_type": "markdown",
   "metadata": {},
   "source": [
    "### Importing your own Modules\n",
    "\n",
    "If you have create code which you want to re-use. Simply create the code and save it as a .py (python) file and save it in the Lib folder. Your Lib folder should be found in a similar path to this \"C:\\Users\\johnr\\AppData\\Local\\Programs\\Python\\Python37\\Lib\".\n",
    "\n",
    "If it isn't open up control panel and then click on system, then Advanced Systems Setting and Environment Variables. In the User Variables look for the Variable \"Path\" which will show you the location of your Python Lib folder. You can save your code in any of the those paths and you will be able to import your code.\n",
    "\n",
    "We will create a python file with the below code calling it Fibonacci.py"
   ]
  },
  {
   "cell_type": "code",
   "execution_count": null,
   "metadata": {},
   "outputs": [],
   "source": [
    "def fib(n):\n",
    "    # Print out all the Fibonacci values up to the value of n\n",
    "    a, b = 0, 1\n",
    "    while a < n:\n",
    "        print(a, end=' ')\n",
    "        a, b = b, a+b\n",
    "    print()"
   ]
  },
  {
   "cell_type": "code",
   "execution_count": null,
   "metadata": {},
   "outputs": [],
   "source": [
    "import Fibonacci\n",
    "\n",
    "Fibonacci.fib(3)"
   ]
  },
  {
   "cell_type": "code",
   "execution_count": null,
   "metadata": {},
   "outputs": [],
   "source": [
    "Fibonacci.other_func(\"hello\")"
   ]
  },
  {
   "cell_type": "code",
   "execution_count": null,
   "metadata": {},
   "outputs": [],
   "source": [
    "from Fibonacci import fib as f\n",
    "\n",
    "f(5)"
   ]
  },
  {
   "cell_type": "code",
   "execution_count": null,
   "metadata": {},
   "outputs": [],
   "source": []
  }
 ],
 "metadata": {
  "kernelspec": {
   "display_name": "Python 3",
   "language": "python",
   "name": "python3"
  },
  "language_info": {
   "codemirror_mode": {
    "name": "ipython",
    "version": 3
   },
   "file_extension": ".py",
   "mimetype": "text/x-python",
   "name": "python",
   "nbconvert_exporter": "python",
   "pygments_lexer": "ipython3",
   "version": "3.7.3"
  }
 },
 "nbformat": 4,
 "nbformat_minor": 4
}
