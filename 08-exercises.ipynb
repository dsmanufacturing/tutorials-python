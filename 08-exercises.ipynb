{
 "cells": [
  {
   "cell_type": "markdown",
   "metadata": {},
   "source": [
    "# Exercise 1\n",
    "\n",
    "Using Pandas\n",
    "\n",
    "* Create dataframe using the data dictionary provided.\n",
    "* Rename the columns \"first_name\" and \"last_name\" to \"first\" and \"last\".\n",
    "* Convert all columns to uppercase.\n",
    "* Replace any \"_\" with a space."
   ]
  },
  {
   "cell_type": "code",
   "execution_count": 1,
   "metadata": {},
   "outputs": [],
   "source": [
    "data = {\n",
    "    \"first_name\":[\"John\",\"Mark\",\"David\",\"Peter\",\"James\"],\n",
    "    \"last_last\":[\"Reilly\",\"Boyle\",\"Smith\",\"Doe\",\"Bond\"],\n",
    "    \"email_address\":[\"John.Reilly@strath.ac.uk\",\"Mark.Boyle@MB.com\",\"DavidSmith2020@Smith.co.uk\", \"PeterDoe@PeterDoe.com\",\"JamesBond007@MI6.gov.uk\"],\n",
    "    \"identification\":[1,2,3,4,5]\n",
    "}\n",
    "\n",
    "# ENTER YOUR CODE HERE"
   ]
  },
  {
   "cell_type": "markdown",
   "metadata": {},
   "source": [
    "# Exercise 2\n",
    "\n",
    "* Replace row 0 with your information, also change the identification number to 9.\n",
    "* Convert all email addresses to lower case"
   ]
  },
  {
   "cell_type": "code",
   "execution_count": 2,
   "metadata": {},
   "outputs": [],
   "source": [
    "# ENTER YOUR CODE HERE"
   ]
  },
  {
   "cell_type": "markdown",
   "metadata": {},
   "source": [
    "# Exercise 3\n",
    "\n",
    "* Create a new column in the data frame called \"EMAIL ADDRESS LENGTH\" which contains the length of that rows email address."
   ]
  },
  {
   "cell_type": "code",
   "execution_count": 3,
   "metadata": {},
   "outputs": [],
   "source": [
    "# ENTER YOUR CODE HERE"
   ]
  },
  {
   "cell_type": "markdown",
   "metadata": {},
   "source": [
    "# Exercise 4\n",
    "\n",
    "* Use applymap on the new dataframe where it contains only the columns FIRST,LAST and EMAIL ADDRESS and pass the string upper function."
   ]
  },
  {
   "cell_type": "code",
   "execution_count": 4,
   "metadata": {},
   "outputs": [
    {
     "ename": "NameError",
     "evalue": "name 'df' is not defined",
     "output_type": "error",
     "traceback": [
      "\u001b[1;31m---------------------------------------------------------------------------\u001b[0m",
      "\u001b[1;31mNameError\u001b[0m                                 Traceback (most recent call last)",
      "\u001b[1;32m<ipython-input-4-a82336371ee3>\u001b[0m in \u001b[0;36m<module>\u001b[1;34m\u001b[0m\n\u001b[1;32m----> 1\u001b[1;33m \u001b[0mdf\u001b[0m \u001b[1;33m=\u001b[0m \u001b[0mdf\u001b[0m\u001b[1;33m[\u001b[0m\u001b[1;33m[\u001b[0m\u001b[1;34m\"FIRST\"\u001b[0m\u001b[1;33m,\u001b[0m\u001b[1;34m\"LAST\"\u001b[0m\u001b[1;33m,\u001b[0m\u001b[1;34m\"EMAIL ADDRESS\"\u001b[0m\u001b[1;33m]\u001b[0m\u001b[1;33m]\u001b[0m\u001b[1;33m\u001b[0m\u001b[1;33m\u001b[0m\u001b[0m\n\u001b[0m\u001b[0;32m      2\u001b[0m \u001b[1;33m\u001b[0m\u001b[0m\n\u001b[0;32m      3\u001b[0m \u001b[1;31m# ENTER YOUR CODE HERE\u001b[0m\u001b[1;33m\u001b[0m\u001b[1;33m\u001b[0m\u001b[1;33m\u001b[0m\u001b[0m\n",
      "\u001b[1;31mNameError\u001b[0m: name 'df' is not defined"
     ]
    }
   ],
   "source": [
    "df = df[[\"FIRST\",\"LAST\",\"EMAIL ADDRESS\"]]\n",
    "\n",
    "# ENTER YOUR CODE HERE"
   ]
  },
  {
   "cell_type": "code",
   "execution_count": null,
   "metadata": {},
   "outputs": [],
   "source": []
  }
 ],
 "metadata": {
  "kernelspec": {
   "display_name": "Python 3",
   "language": "python",
   "name": "python3"
  },
  "language_info": {
   "codemirror_mode": {
    "name": "ipython",
    "version": 3
   },
   "file_extension": ".py",
   "mimetype": "text/x-python",
   "name": "python",
   "nbconvert_exporter": "python",
   "pygments_lexer": "ipython3",
   "version": "3.7.3"
  }
 },
 "nbformat": 4,
 "nbformat_minor": 4
}
