{
 "cells": [
  {
   "cell_type": "markdown",
   "metadata": {},
   "source": [
    "# Solutions"
   ]
  },
  {
   "cell_type": "code",
   "execution_count": null,
   "metadata": {},
   "outputs": [],
   "source": [
    "# Solution 1\n",
    "\n",
    "username = input(\"Please enter your name: \")\n",
    "print(\"Hello, {}!\".format(username))"
   ]
  },
  {
   "cell_type": "code",
   "execution_count": null,
   "metadata": {},
   "outputs": [],
   "source": [
    "# Solution 2\n",
    "\n",
    "int1 = int(input(\"Please enter an integer: \"))\n",
    "int2 = int(input(\"Please enter another integer: \"))\n",
    "res_addition = int1+int2\n",
    "res_subtraction = int1-int2\n",
    "res_modulo = int1%int2\n",
    "\n",
    "print(\"Addition result is: {}\".format(res_addition))\n",
    "print(\"Subtraction result is: {}\".format(res_subtraction))\n",
    "print(\"Modulus is: {}\".format(res_modulo))"
   ]
  },
  {
   "cell_type": "code",
   "execution_count": null,
   "metadata": {},
   "outputs": [],
   "source": [
    "# Solution 3\n",
    "\n",
    "bool1 = bool(int(input(\"Please enter a boolean value (0 or 1): \")))\n",
    "bool2 = bool(int(input(\"Please enter another boolean value (0 or 1): \")))\n",
    "and_result = bool1 and bool2\n",
    "or_result = bool1 or bool2\n",
    "print(\"{} AND {} = {}\".format(int(bool1), int(bool2), int(and_result)))\n",
    "print(\"{} OR {} = {}\".format(int(bool1), int(bool2), int(or_result)))"
   ]
  }
 ],
 "metadata": {
  "kernelspec": {
   "display_name": "Python 3",
   "language": "python",
   "name": "python3"
  },
  "language_info": {
   "codemirror_mode": {
    "name": "ipython",
    "version": 3
   },
   "file_extension": ".py",
   "mimetype": "text/x-python",
   "name": "python",
   "nbconvert_exporter": "python",
   "pygments_lexer": "ipython3",
   "version": "3.7.4"
  }
 },
 "nbformat": 4,
 "nbformat_minor": 2
}
