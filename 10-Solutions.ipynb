{
 "cells": [
  {
   "cell_type": "markdown",
   "metadata": {},
   "source": [
    "# Exercise 1\n",
    "\n",
    "Using Pandas\n",
    "\n",
    "* Read the csv file \"exercise10.csv\"\n",
    "* Replace all custom missing value strings.\n",
    "* Create a mask which returns True if the value is NaN and False if it is a value.\n",
    "* Output both the dataframe and the mask"
   ]
  },
  {
   "cell_type": "code",
   "execution_count": null,
   "metadata": {},
   "outputs": [],
   "source": [
    "# ENTER YOUR CODE HERE\n",
    "import pandas as pd\n",
    "import numpy as np\n",
    "\n",
    "df = pd.read_csv(\"exercise10.csv\")\n",
    "df.replace(\"Missing value\", np.nan, inplace=True)\n",
    "df.replace(\"Missing\", np.nan, inplace=True)\n",
    "\n",
    "\"\"\"\n",
    "or df = pd.read_csv(\"exercise10.csv\", na_values=[\"Missing value\",\"Missing\"])\n",
    "\"\"\"\n",
    "na_mask = df.isna()"
   ]
  },
  {
   "cell_type": "code",
   "execution_count": null,
   "metadata": {},
   "outputs": [],
   "source": [
    "df"
   ]
  },
  {
   "cell_type": "code",
   "execution_count": null,
   "metadata": {},
   "outputs": [],
   "source": [
    "na_mask"
   ]
  },
  {
   "cell_type": "markdown",
   "metadata": {},
   "source": [
    "# Exercise 2\n",
    "\n",
    "* Remove rows with all values as NaN\n",
    "* Remove rows where only the first column has NaN in it.\n",
    "* Only in test_2, Fill NaN values to 0.\n",
    "* Only in test_1, Fill NaN values to 100."
   ]
  },
  {
   "cell_type": "code",
   "execution_count": null,
   "metadata": {},
   "outputs": [],
   "source": [
    "# ENTER YOUR CODE HERE\n",
    "df.dropna(axis=\"index\", how=\"all\", inplace=True)\n",
    "df.dropna(axis=\"index\", how=\"all\", subset=[\"first\"], inplace=True)\n",
    "df[\"test_2\"] = df[\"test_2\"].fillna(0)\n",
    "df[\"test_1\"] = df[\"test_1\"].fillna(100)\n",
    "df"
   ]
  },
  {
   "cell_type": "markdown",
   "metadata": {},
   "source": [
    "# Exercise 3\n",
    "\n",
    "* Find the min, max, median and mean of both test_1 and test_2 - hint you can agg method, used in last weeks tutorial\n",
    "* Create a new column which shows the difference between the average of test_1 column and the value in each row of test_1. Name the variable \"test_1_diff\"\n",
    "* Create a new column which shows the difference between the average of test_2 column and the value in each row of test_2. Name the variable \"test_2_diff\""
   ]
  },
  {
   "cell_type": "code",
   "execution_count": null,
   "metadata": {},
   "outputs": [],
   "source": [
    "# ENTER YOUR CODE HERE\n",
    "df[[\"test_1\",\"test_2\"]] = df[[\"test_1\",\"test_2\"]].astype(\"float\")\n",
    "df[[\"test_1\",\"test_2\"]].agg([\"min\",\"max\",\"median\",\"mean\"])"
   ]
  },
  {
   "cell_type": "code",
   "execution_count": null,
   "metadata": {},
   "outputs": [],
   "source": [
    "df[\"test_1_diff\"] = df[\"test_1\"].mean() - df[\"test_1\"]\n",
    "df[\"test_2_diff\"] = df[\"test_2\"].mean() - df[\"test_2\"]\n",
    "df"
   ]
  },
  {
   "cell_type": "markdown",
   "metadata": {},
   "source": [
    "# Exercise 4\n",
    "\n",
    "Lets now find the standard deviation of each test. For each column of \"test_?_diff\" do the following.\n",
    "\n",
    "* Square each value in the column\n",
    "* Sum those values together\n",
    "* Divide that value by the number of rows minus 1. \n",
    "* Output the square root of the result"
   ]
  },
  {
   "cell_type": "code",
   "execution_count": null,
   "metadata": {},
   "outputs": [],
   "source": [
    "std_test_1 = df[\"test_1_diff\"]**2\n",
    "std_test_1"
   ]
  },
  {
   "cell_type": "code",
   "execution_count": null,
   "metadata": {},
   "outputs": [],
   "source": [
    "std_test_1 = std_test_1.sum()\n",
    "std_test_1"
   ]
  },
  {
   "cell_type": "code",
   "execution_count": null,
   "metadata": {},
   "outputs": [],
   "source": [
    "std_test_1 = std_test_1/(len(df)-1)\n",
    "std_test_1"
   ]
  },
  {
   "cell_type": "code",
   "execution_count": null,
   "metadata": {},
   "outputs": [],
   "source": [
    "std_test_1 = std_test_1**0.5\n",
    "std_test_1"
   ]
  },
  {
   "cell_type": "code",
   "execution_count": null,
   "metadata": {},
   "outputs": [],
   "source": [
    "std_test_2 = ((df[\"test_2_diff\"]**2).sum()/(len(df)-1))**0.5\n",
    "std_test_2"
   ]
  }
 ],
 "metadata": {
  "kernelspec": {
   "display_name": "Python 3",
   "language": "python",
   "name": "python3"
  },
  "language_info": {
   "codemirror_mode": {
    "name": "ipython",
    "version": 3
   },
   "file_extension": ".py",
   "mimetype": "text/x-python",
   "name": "python",
   "nbconvert_exporter": "python",
   "pygments_lexer": "ipython3",
   "version": "3.7.3"
  }
 },
 "nbformat": 4,
 "nbformat_minor": 4
}
