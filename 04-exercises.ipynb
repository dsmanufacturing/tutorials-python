{
 "cells": [
  {
   "cell_type": "markdown",
   "metadata": {},
   "source": [
    "# Exercise 1\n",
    "\n",
    "* Create an empty Dictionary\n",
    "* Create a dictionary called personnel with the keys of first_name, second_name, id_number. You can choose the value data."
   ]
  },
  {
   "cell_type": "code",
   "execution_count": null,
   "metadata": {},
   "outputs": [],
   "source": [
    "# ENTER YOUR CODE HERE\n"
   ]
  },
  {
   "cell_type": "markdown",
   "metadata": {},
   "source": [
    "# Exercise 2\n",
    "\n",
    "Using the Duplex_Stainless_Steel_UR52N dictionary shown in the tutorial.\n",
    "\n",
    "* Output the value of Copper (Cu)\n",
    "* Output the value of \"Modulus of Elasticity (GPa)\"\n",
    "* Output the value of \"Proof Stress 0.2% (MPa)\""
   ]
  },
  {
   "cell_type": "code",
   "execution_count": null,
   "metadata": {},
   "outputs": [],
   "source": [
    "Duplex_Stainless_Steel_UR52N = { \n",
    "                                \"Material Composition (%)\": { \"C\":0.03, \"Mn\":1.5, \"Si\":0.8, \"P\":0.035, \"S\": 0.02, \"Cr\": 26, \"Mo\": 5, \"Ni\": 8, \"N\": 0.35, \"Cu\":3},\n",
    "    \n",
    "    \n",
    "                                \"Material Properties\": {\n",
    "                                            \"Mechanical\": { \"Tensile Strength (MPa)\": 770, \"Proof Stress 0.2% (MPa)\":550, \"Elongation A5 (%)\": 25 },\n",
    "                                            \"Physical\": {\"Density (g.cm3)\": 7.810, \"Modulus of Elasticity (GPa)\": 205, \"Electrical Resistivity (Ω.m)\": 0.85e-6, \"Thermal Conductivity (W/m.K)\": \"17 @ 100 DegC\", \"Thermal Expansion (m/m.K)\": \"13.5e-6 @ 200 DegC\"}               \n",
    "                                                       }\n",
    "                                }\n",
    "\n",
    "# ENTER YOUR CODE HERE\n"
   ]
  },
  {
   "cell_type": "markdown",
   "metadata": {},
   "source": [
    "# Exercise 3\n",
    "\n",
    "Using for loops\n",
    "\n",
    "* Output all the keys of the employee_dictionary\n",
    "* Output all the values of the employee_dictionary"
   ]
  },
  {
   "cell_type": "code",
   "execution_count": null,
   "metadata": {},
   "outputs": [],
   "source": [
    "employee_dictionary = {\"Name\":\"John Reilly\", \"Telephone Number\": 5345200, \"Office Location\": \"85 Inchinnan Dr, Inchinnan, Renfrew PA4 9LJ\"}\n",
    "\n",
    "# ENTER YOUR CODE HERE"
   ]
  },
  {
   "cell_type": "markdown",
   "metadata": {},
   "source": [
    "# Exercise 4\n",
    "\n",
    "Change each of the values of the employee_dictionary to anything else."
   ]
  },
  {
   "cell_type": "code",
   "execution_count": null,
   "metadata": {},
   "outputs": [],
   "source": [
    "employee_dictionary = {\"Name\":\"John Reilly\", \"Telephone Number\": 5345200, \"Office Location\": \"85 Inchinnan Dr, Inchinnan, Renfrew PA4 9LJ\"}\n",
    "\n",
    "# ENTER YOUR CODE HERE"
   ]
  },
  {
   "cell_type": "markdown",
   "metadata": {},
   "source": [
    "# Exercise 5\n",
    "\n",
    "Using a for loop, loop through each value and do the following.\n",
    "\n",
    "* continue the loop if the value is even\n",
    "* print the value if the value is odd\n",
    "* break the loop if the value is greater than 18"
   ]
  },
  {
   "cell_type": "code",
   "execution_count": null,
   "metadata": {},
   "outputs": [],
   "source": [
    "# ENTER YOUR CODE HERE\n",
    "\n",
    "number_list = [11,12,13,14,15,16,17,18,19,20]"
   ]
  },
  {
   "cell_type": "markdown",
   "metadata": {},
   "source": [
    "# Exercise 6\n",
    "\n",
    "Create a while loop which prints out the dictionary value from the key \"number\" while x is less than 20 and x is incremented by 1 every loop."
   ]
  },
  {
   "cell_type": "code",
   "execution_count": null,
   "metadata": {},
   "outputs": [],
   "source": [
    "Simple_Dictionary = {\n",
    "    \"characters\":[\"a\",\"b\",\"c\"],\n",
    "    \"number\": 20,\n",
    "    \"special characters\": [\"!\",\"@\",\"#\"]\n",
    "}\n",
    "\n",
    "x = 15\n",
    "\n",
    "# ENTER YOUR CODE HERE"
   ]
  },
  {
   "cell_type": "code",
   "execution_count": null,
   "metadata": {},
   "outputs": [],
   "source": []
  }
 ],
 "metadata": {
  "kernelspec": {
   "display_name": "Python 3",
   "language": "python",
   "name": "python3"
  },
  "language_info": {
   "codemirror_mode": {
    "name": "ipython",
    "version": 3
   },
   "file_extension": ".py",
   "mimetype": "text/x-python",
   "name": "python",
   "nbconvert_exporter": "python",
   "pygments_lexer": "ipython3",
   "version": "3.7.4"
  }
 },
 "nbformat": 4,
 "nbformat_minor": 4
}
